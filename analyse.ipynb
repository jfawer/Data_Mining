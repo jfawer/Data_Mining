{
 "cells": [
  {
   "cell_type": "markdown",
   "metadata": {
    "vscode": {
     "languageId": "html"
    }
   },
   "source": [
    "# 1. Daten aus CSV-File in Variable speichern"
   ]
  },
  {
   "cell_type": "code",
   "execution_count": null,
   "metadata": {},
   "outputs": [],
   "source": [
    "import pandas as pd\n",
    "\n",
    "# Replace 'your_file.csv' with the path to your CSV file\n",
    "csv_file_path = 'Daten.csv'\n",
    "\n",
    "# Read the CSV file and store it in a variable\n",
    "data = pd.read_csv(csv_file_path)\n",
    "\n",
    "print(data)"
   ]
  },
  {
   "cell_type": "markdown",
   "metadata": {},
   "source": [
    "# 2. Daten aufbereiten"
   ]
  },
  {
   "cell_type": "code",
   "execution_count": 6,
   "metadata": {},
   "outputs": [
    {
     "name": "stdout",
     "output_type": "stream",
     "text": [
      "Datensatzanalyse vor der Bereinigung:\n",
      "- Anzahl der Zeilen: 1000000\n",
      "- Anzahl der Spalten: 1\n",
      "- Anzahl der fehlenden Werte insgesamt: 200448\n",
      "\n",
      "Fehlende Werte pro Spalte:\n",
      "TimeStamp;ActualPos;ActualForce;Nahtnummer;LaserPwr;Befehl    200448\n",
      "dtype: int64\n",
      "\n",
      "==================================================\n",
      "\n",
      "Datensatzanalyse nach der Bereinigung:\n",
      "- Anzahl der Zeilen: 799552\n",
      "- Anzahl der gelöschten Zeilen: 200448\n",
      "- Prozent der gelöschten Zeilen: 20.04%\n",
      "- Verbleibende fehlende Werte: 0\n"
     ]
    }
   ],
   "source": [
    "import pandas as pd\n",
    "\n",
    "# Zähle die Anzahl der Zeilen vor der Bereinigung\n",
    "rows_before = len(data)\n",
    "cols_before = len(data.columns)\n",
    "missing_values_before = data.isna().sum()\n",
    "total_missing_before = missing_values_before.sum()\n",
    "\n",
    "# Bereinigung der Daten: Entferne Zeilen mit leeren Feldern\n",
    "data_clean = data.dropna()\n",
    "\n",
    "# Alternative: Nur Zeilen entfernen, bei denen alle Felder leer sind\n",
    "# data_clean = data.dropna(how='all')\n",
    "\n",
    "# Oder: Nur Zeilen entfernen, bei denen bestimmte Spalten leer sind\n",
    "# data_clean = data.dropna(subset=['wichtige_spalte1', 'wichtige_spalte2'])\n",
    "\n",
    "# Zähle die Anzahl der Zeilen nach der Bereinigung\n",
    "rows_after = len(data_clean)\n",
    "total_missing_after = data_clean.isna().sum().sum()\n",
    "\n",
    "# Feedback über gelöschte Daten\n",
    "print(f\"Datensatzanalyse vor der Bereinigung:\")\n",
    "print(f\"- Anzahl der Zeilen: {rows_before}\")\n",
    "print(f\"- Anzahl der Spalten: {cols_before}\")\n",
    "print(f\"- Anzahl der fehlenden Werte insgesamt: {total_missing_before}\")\n",
    "print(\"\\nFehlende Werte pro Spalte:\")\n",
    "print(missing_values_before)\n",
    "\n",
    "print(\"\\n\" + \"=\"*50 + \"\\n\")\n",
    "\n",
    "print(f\"Datensatzanalyse nach der Bereinigung:\")\n",
    "print(f\"- Anzahl der Zeilen: {rows_after}\")\n",
    "print(f\"- Anzahl der gelöschten Zeilen: {rows_before - rows_after}\")\n",
    "print(f\"- Prozent der gelöschten Zeilen: {(rows_before - rows_after) / rows_before * 100:.2f}%\")\n",
    "print(f\"- Verbleibende fehlende Werte: {total_missing_after}\")\n",
    "\n",
    "# Speichere den bereinigten Datensatz\n",
    "# data_clean verweist jetzt auf die bereinigte Version des Datensatzes"
   ]
  }
 ],
 "metadata": {
  "kernelspec": {
   "display_name": ".venv",
   "language": "python",
   "name": "python3"
  },
  "language_info": {
   "codemirror_mode": {
    "name": "ipython",
    "version": 3
   },
   "file_extension": ".py",
   "mimetype": "text/x-python",
   "name": "python",
   "nbconvert_exporter": "python",
   "pygments_lexer": "ipython3",
   "version": "3.13.2"
  }
 },
 "nbformat": 4,
 "nbformat_minor": 2
}
