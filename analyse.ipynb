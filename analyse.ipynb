{
 "cells": [
  {
   "cell_type": "markdown",
   "metadata": {},
   "source": [
    "# Bibliotheken"
   ]
  },
  {
   "cell_type": "code",
   "execution_count": 1,
   "metadata": {},
   "outputs": [],
   "source": [
    "import pandas as pd\n",
    "import numpy as np\n",
    "import matplotlib.pyplot as plt\n",
    "import seaborn as sns\n",
    "from sklearn.ensemble import IsolationForest"
   ]
  },
  {
   "cell_type": "markdown",
   "metadata": {
    "vscode": {
     "languageId": "html"
    }
   },
   "source": [
    "# 1. Daten aus CSV-File in Variable speichern"
   ]
  },
  {
   "cell_type": "code",
   "execution_count": 2,
   "metadata": {},
   "outputs": [
    {
     "name": "stdout",
     "output_type": "stream",
     "text": [
      "\n",
      "Informationen zum Datensatz:\n",
      "Anzahl Zeilen: 1000000\n",
      "Anzahl Spalten: 6\n",
      "\n",
      "Spaltennamen:\n",
      "['TimeStamp', 'ActualPos', 'ActualForce', 'Nahtnummer', 'LaserPwr', 'Befehl']\n"
     ]
    }
   ],
   "source": [
    "# Pfad zur CSV-Datei\n",
    "csv_file_path = 'Daten.csv'\n",
    "\n",
    "# Lese die CSV-Datei mit Semikolon als Trennzeichen\n",
    "data = pd.read_csv(csv_file_path, sep=';')\n",
    "\n",
    "# Zeige Informationen über die Daten an\n",
    "print(\"\\nInformationen zum Datensatz:\")\n",
    "print(f\"Anzahl Zeilen: {data.shape[0]}\")\n",
    "print(f\"Anzahl Spalten: {data.shape[1]}\")\n",
    "print(\"\\nSpaltennamen:\")\n",
    "print(data.columns.tolist())"
   ]
  },
  {
   "cell_type": "markdown",
   "metadata": {},
   "source": [
    "# 2. Daten aufbereiten"
   ]
  },
  {
   "cell_type": "code",
   "execution_count": 3,
   "metadata": {},
   "outputs": [
    {
     "name": "stdout",
     "output_type": "stream",
     "text": [
      "\n",
      "Datensatzanalyse vor der Bereinigung:\n",
      "- Anzahl der Zeilen: 1000000\n",
      "- Anzahl der Spalten: 6\n",
      "- Spaltennamen: TimeStamp, ActualPos, ActualForce, Nahtnummer, LaserPwr, Befehl\n",
      "- Anzahl der fehlenden Werte insgesamt: 1075\n",
      "\n",
      "Spalten mit fehlenden Werten:\n",
      "  - Befehl: 1075 fehlende Werte (0.11%)\n",
      "\n",
      "==================================================\n",
      "\n",
      "Datensatzanalyse nach der Bereinigung:\n",
      "- Anzahl der Zeilen: 998925\n",
      "- Anzahl der gelöschten Zeilen: 1075\n",
      "- Prozent der gelöschten Zeilen: 0.11%\n",
      "- Verbleibende fehlende Werte: 0\n"
     ]
    }
   ],
   "source": [
    "# Zähle die Anzahl der Zeilen vor der Bereinigung\n",
    "rows_before = len(data)\n",
    "cols_before = len(data.columns)\n",
    "missing_values_before = data.isna().sum()\n",
    "total_missing_before = missing_values_before.sum()\n",
    "\n",
    "# Bereinigung der Daten: Entferne Zeilen mit leeren Feldern\n",
    "data_clean = data.dropna()\n",
    "\n",
    "# Zähle die Anzahl der Zeilen nach der Bereinigung\n",
    "rows_after = len(data_clean)\n",
    "total_missing_after = data_clean.isna().sum().sum()\n",
    "\n",
    "# Feedback über gelöschte Daten\n",
    "print(f\"\\nDatensatzanalyse vor der Bereinigung:\")\n",
    "print(f\"- Anzahl der Zeilen: {rows_before}\")\n",
    "print(f\"- Anzahl der Spalten: {cols_before}\")\n",
    "print(f\"- Spaltennamen: {', '.join(data.columns)}\")\n",
    "print(f\"- Anzahl der fehlenden Werte insgesamt: {total_missing_before}\")\n",
    "\n",
    "# Zeige nur Spalten mit fehlenden Werten an\n",
    "print(\"\\nSpalten mit fehlenden Werten:\")\n",
    "for column, missing in missing_values_before.items():\n",
    "    if missing > 0:\n",
    "        print(f\"  - {column}: {missing} fehlende Werte ({missing/rows_before*100:.2f}%)\")\n",
    "\n",
    "print(\"\\n\" + \"=\"*50 + \"\\n\")\n",
    "\n",
    "print(f\"Datensatzanalyse nach der Bereinigung:\")\n",
    "print(f\"- Anzahl der Zeilen: {rows_after}\")\n",
    "print(f\"- Anzahl der gelöschten Zeilen: {rows_before - rows_after}\")\n",
    "print(f\"- Prozent der gelöschten Zeilen: {(rows_before - rows_after) / rows_before * 100:.2f}%\")\n",
    "print(f\"- Verbleibende fehlende Werte: {total_missing_after}\")\n",
    "\n",
    "\n",
    "# Speichere den bereinigten Datensatz für weitere Analysen\n",
    "# data_clean enthält jetzt die bereinigte Version des Datensatzes"
   ]
  },
  {
   "cell_type": "markdown",
   "metadata": {},
   "source": [
    "# 4. Modellierung"
   ]
  },
  {
   "cell_type": "code",
   "execution_count": null,
   "metadata": {},
   "outputs": [],
   "source": []
  }
 ],
 "metadata": {
  "kernelspec": {
   "display_name": ".venv",
   "language": "python",
   "name": "python3"
  },
  "language_info": {
   "codemirror_mode": {
    "name": "ipython",
    "version": 3
   },
   "file_extension": ".py",
   "mimetype": "text/x-python",
   "name": "python",
   "nbconvert_exporter": "python",
   "pygments_lexer": "ipython3",
   "version": "3.13.2"
  }
 },
 "nbformat": 4,
 "nbformat_minor": 2
}
