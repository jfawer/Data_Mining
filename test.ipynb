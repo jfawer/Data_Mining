{
 "cells": [
  {
   "cell_type": "markdown",
   "id": "83b3671a",
   "metadata": {},
   "source": [
    "# 1. Daten auslesen und formatieren"
   ]
  },
  {
   "cell_type": "code",
   "execution_count": null,
   "id": "f906a8eb",
   "metadata": {},
   "outputs": [
    {
     "name": "stdout",
     "output_type": "stream",
     "text": [
      "Anzahl der Zeilen: 1000000\n",
      "Spaltentitel: ['TimeStamp', 'ActualPos', 'ActualForce', 'Nahtnummer', 'LaserPwr', 'Befehl']\n",
      "Format der Datenspalten:\n",
      "TimeStamp       object\n",
      "ActualPos      float64\n",
      "ActualForce      int64\n",
      "Nahtnummer      object\n",
      "LaserPwr         int64\n",
      "Befehl          object\n",
      "dtype: object\n"
     ]
    }
   ],
   "source": [
    "# Importiere die benötigten Bibliotheken\n",
    "import pandas as pd\n",
    "import sqlite3\n",
    "\n",
    "# 1. CSV-Datei laden\n",
    "csv_file = \"Daten.csv\"\n",
    "df = pd.read_csv(csv_file, sep=';', decimal=',')  # Passe Trennzeichen und Dezimalzeichen an\n",
    "\n",
    "# Ausgabe der Anzahl der Zeilen\n",
    "print(f\"Anzahl der Zeilen: {len(df)}\")\n",
    "\n",
    "# Ausgabe der Spaltentitel\n",
    "print(f\"Spaltentitel: {list(df.columns)}\")\n",
    "\n",
    "# Ausgabe des Formats der Datenspalten\n",
    "print(\"Format der Datenspalten:\")\n",
    "print(df.dtypes)\n",
    "\n",
    "# 2. Verbindung zur SQLite-Datenbank herstellen (oder erstellen, falls nicht vorhanden)\n",
    "db_file = \"Test.db\"\n",
    "conn = sqlite3.connect(db_file)\n",
    "\n",
    "# 3. Daten in die Datenbank schreiben\n",
    "table_name = \"Daten\"\n",
    "df.to_sql(table_name, conn, if_exists='replace', index=False)\n",
    "print(f\"Daten wurden in die Tabelle '{table_name}' geschrieben.\")\n",
    "\n",
    "# 4. Verbindung schließen\n",
    "conn.close()"
   ]
  }
 ],
 "metadata": {
  "kernelspec": {
   "display_name": ".venv",
   "language": "python",
   "name": "python3"
  },
  "language_info": {
   "codemirror_mode": {
    "name": "ipython",
    "version": 3
   },
   "file_extension": ".py",
   "mimetype": "text/x-python",
   "name": "python",
   "nbconvert_exporter": "python",
   "pygments_lexer": "ipython3",
   "version": "3.13.2"
  }
 },
 "nbformat": 4,
 "nbformat_minor": 5
}
